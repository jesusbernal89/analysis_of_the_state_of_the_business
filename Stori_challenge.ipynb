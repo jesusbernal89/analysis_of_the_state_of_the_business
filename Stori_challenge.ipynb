{
  "nbformat": 4,
  "nbformat_minor": 0,
  "metadata": {
    "colab": {
      "provenance": [],
      "toc_visible": true
    },
    "kernelspec": {
      "name": "python3",
      "display_name": "Python 3"
    },
    "language_info": {
      "name": "python"
    }
  },
  "cells": [
    {
      "cell_type": "code",
      "execution_count": 1,
      "metadata": {
        "id": "HBRTz1SjSkkf"
      },
      "outputs": [],
      "source": [
        "import pandas as pd\n",
        "import numpy as np\n",
        "import plotly.express as px"
      ]
    },
    {
      "cell_type": "markdown",
      "source": [
        "# Recover Collection Strategy"
      ],
      "metadata": {
        "id": "0aV8Ptngc2rB"
      }
    },
    {
      "cell_type": "markdown",
      "source": [
        "## Calculations"
      ],
      "metadata": {
        "id": "L4lufGofpTnM"
      }
    },
    {
      "cell_type": "code",
      "source": [
        "df = pd.read_csv(\"/content/drive/MyDrive/Descargas/contactability_scores_(4)_(2).csv\")"
      ],
      "metadata": {
        "id": "N2DkfEVKTDGz"
      },
      "execution_count": 2,
      "outputs": []
    },
    {
      "cell_type": "code",
      "source": [
        "df"
      ],
      "metadata": {
        "colab": {
          "base_uri": "https://localhost:8080/",
          "height": 443
        },
        "id": "3cOX86Ch3RRg",
        "outputId": "63342445-6496-447b-9d8a-931c3d32cf13"
      },
      "execution_count": 24,
      "outputs": [
        {
          "output_type": "execute_result",
          "data": {
            "text/plain": [
              "     customer_id  contactability_score  total_debt  interest  Cost_of_call  \\\n",
              "0              1                 0.293        1000       150            30   \n",
              "1              2                 0.250        1000       150            30   \n",
              "2              3                 0.033        1000       150            30   \n",
              "3              4                 0.239        1000       150            30   \n",
              "4              5                 0.681        1000       150            30   \n",
              "..           ...                   ...         ...       ...           ...   \n",
              "670          671                 0.463        1000       150            30   \n",
              "671          672                 0.434        1000       150            30   \n",
              "672          673                 0.396        1000       150            30   \n",
              "673          674                 0.230        1000       150            30   \n",
              "674          675                 0.653        1000       150            30   \n",
              "\n",
              "     debt_plus_interest  probability_of_payment  recover_probability  \\\n",
              "0                  1150                    0.75              0.21975   \n",
              "1                  1150                    0.75              0.18750   \n",
              "2                  1150                    0.75              0.02475   \n",
              "3                  1150                    0.75              0.17925   \n",
              "4                  1150                    0.75              0.51075   \n",
              "..                  ...                     ...                  ...   \n",
              "670                1150                    0.75              0.34725   \n",
              "671                1150                    0.75              0.32550   \n",
              "672                1150                    0.75              0.29700   \n",
              "673                1150                    0.75              0.17250   \n",
              "674                1150                    0.75              0.48975   \n",
              "\n",
              "     recover_account  \n",
              "0                  0  \n",
              "1                  0  \n",
              "2                  0  \n",
              "3                  0  \n",
              "4                  1  \n",
              "..               ...  \n",
              "670                1  \n",
              "671                1  \n",
              "672                1  \n",
              "673                0  \n",
              "674                1  \n",
              "\n",
              "[675 rows x 9 columns]"
            ],
            "text/html": [
              "\n",
              "  <div id=\"df-a3a57ead-0f7b-4e42-b224-2d97972472e0\" class=\"colab-df-container\">\n",
              "    <div>\n",
              "<style scoped>\n",
              "    .dataframe tbody tr th:only-of-type {\n",
              "        vertical-align: middle;\n",
              "    }\n",
              "\n",
              "    .dataframe tbody tr th {\n",
              "        vertical-align: top;\n",
              "    }\n",
              "\n",
              "    .dataframe thead th {\n",
              "        text-align: right;\n",
              "    }\n",
              "</style>\n",
              "<table border=\"1\" class=\"dataframe\">\n",
              "  <thead>\n",
              "    <tr style=\"text-align: right;\">\n",
              "      <th></th>\n",
              "      <th>customer_id</th>\n",
              "      <th>contactability_score</th>\n",
              "      <th>total_debt</th>\n",
              "      <th>interest</th>\n",
              "      <th>Cost_of_call</th>\n",
              "      <th>debt_plus_interest</th>\n",
              "      <th>probability_of_payment</th>\n",
              "      <th>recover_probability</th>\n",
              "      <th>recover_account</th>\n",
              "    </tr>\n",
              "  </thead>\n",
              "  <tbody>\n",
              "    <tr>\n",
              "      <th>0</th>\n",
              "      <td>1</td>\n",
              "      <td>0.293</td>\n",
              "      <td>1000</td>\n",
              "      <td>150</td>\n",
              "      <td>30</td>\n",
              "      <td>1150</td>\n",
              "      <td>0.75</td>\n",
              "      <td>0.21975</td>\n",
              "      <td>0</td>\n",
              "    </tr>\n",
              "    <tr>\n",
              "      <th>1</th>\n",
              "      <td>2</td>\n",
              "      <td>0.250</td>\n",
              "      <td>1000</td>\n",
              "      <td>150</td>\n",
              "      <td>30</td>\n",
              "      <td>1150</td>\n",
              "      <td>0.75</td>\n",
              "      <td>0.18750</td>\n",
              "      <td>0</td>\n",
              "    </tr>\n",
              "    <tr>\n",
              "      <th>2</th>\n",
              "      <td>3</td>\n",
              "      <td>0.033</td>\n",
              "      <td>1000</td>\n",
              "      <td>150</td>\n",
              "      <td>30</td>\n",
              "      <td>1150</td>\n",
              "      <td>0.75</td>\n",
              "      <td>0.02475</td>\n",
              "      <td>0</td>\n",
              "    </tr>\n",
              "    <tr>\n",
              "      <th>3</th>\n",
              "      <td>4</td>\n",
              "      <td>0.239</td>\n",
              "      <td>1000</td>\n",
              "      <td>150</td>\n",
              "      <td>30</td>\n",
              "      <td>1150</td>\n",
              "      <td>0.75</td>\n",
              "      <td>0.17925</td>\n",
              "      <td>0</td>\n",
              "    </tr>\n",
              "    <tr>\n",
              "      <th>4</th>\n",
              "      <td>5</td>\n",
              "      <td>0.681</td>\n",
              "      <td>1000</td>\n",
              "      <td>150</td>\n",
              "      <td>30</td>\n",
              "      <td>1150</td>\n",
              "      <td>0.75</td>\n",
              "      <td>0.51075</td>\n",
              "      <td>1</td>\n",
              "    </tr>\n",
              "    <tr>\n",
              "      <th>...</th>\n",
              "      <td>...</td>\n",
              "      <td>...</td>\n",
              "      <td>...</td>\n",
              "      <td>...</td>\n",
              "      <td>...</td>\n",
              "      <td>...</td>\n",
              "      <td>...</td>\n",
              "      <td>...</td>\n",
              "      <td>...</td>\n",
              "    </tr>\n",
              "    <tr>\n",
              "      <th>670</th>\n",
              "      <td>671</td>\n",
              "      <td>0.463</td>\n",
              "      <td>1000</td>\n",
              "      <td>150</td>\n",
              "      <td>30</td>\n",
              "      <td>1150</td>\n",
              "      <td>0.75</td>\n",
              "      <td>0.34725</td>\n",
              "      <td>1</td>\n",
              "    </tr>\n",
              "    <tr>\n",
              "      <th>671</th>\n",
              "      <td>672</td>\n",
              "      <td>0.434</td>\n",
              "      <td>1000</td>\n",
              "      <td>150</td>\n",
              "      <td>30</td>\n",
              "      <td>1150</td>\n",
              "      <td>0.75</td>\n",
              "      <td>0.32550</td>\n",
              "      <td>1</td>\n",
              "    </tr>\n",
              "    <tr>\n",
              "      <th>672</th>\n",
              "      <td>673</td>\n",
              "      <td>0.396</td>\n",
              "      <td>1000</td>\n",
              "      <td>150</td>\n",
              "      <td>30</td>\n",
              "      <td>1150</td>\n",
              "      <td>0.75</td>\n",
              "      <td>0.29700</td>\n",
              "      <td>1</td>\n",
              "    </tr>\n",
              "    <tr>\n",
              "      <th>673</th>\n",
              "      <td>674</td>\n",
              "      <td>0.230</td>\n",
              "      <td>1000</td>\n",
              "      <td>150</td>\n",
              "      <td>30</td>\n",
              "      <td>1150</td>\n",
              "      <td>0.75</td>\n",
              "      <td>0.17250</td>\n",
              "      <td>0</td>\n",
              "    </tr>\n",
              "    <tr>\n",
              "      <th>674</th>\n",
              "      <td>675</td>\n",
              "      <td>0.653</td>\n",
              "      <td>1000</td>\n",
              "      <td>150</td>\n",
              "      <td>30</td>\n",
              "      <td>1150</td>\n",
              "      <td>0.75</td>\n",
              "      <td>0.48975</td>\n",
              "      <td>1</td>\n",
              "    </tr>\n",
              "  </tbody>\n",
              "</table>\n",
              "<p>675 rows × 9 columns</p>\n",
              "</div>\n",
              "    <div class=\"colab-df-buttons\">\n",
              "\n",
              "  <div class=\"colab-df-container\">\n",
              "    <button class=\"colab-df-convert\" onclick=\"convertToInteractive('df-a3a57ead-0f7b-4e42-b224-2d97972472e0')\"\n",
              "            title=\"Convert this dataframe to an interactive table.\"\n",
              "            style=\"display:none;\">\n",
              "\n",
              "  <svg xmlns=\"http://www.w3.org/2000/svg\" height=\"24px\" viewBox=\"0 -960 960 960\">\n",
              "    <path d=\"M120-120v-720h720v720H120Zm60-500h600v-160H180v160Zm220 220h160v-160H400v160Zm0 220h160v-160H400v160ZM180-400h160v-160H180v160Zm440 0h160v-160H620v160ZM180-180h160v-160H180v160Zm440 0h160v-160H620v160Z\"/>\n",
              "  </svg>\n",
              "    </button>\n",
              "\n",
              "  <style>\n",
              "    .colab-df-container {\n",
              "      display:flex;\n",
              "      gap: 12px;\n",
              "    }\n",
              "\n",
              "    .colab-df-convert {\n",
              "      background-color: #E8F0FE;\n",
              "      border: none;\n",
              "      border-radius: 50%;\n",
              "      cursor: pointer;\n",
              "      display: none;\n",
              "      fill: #1967D2;\n",
              "      height: 32px;\n",
              "      padding: 0 0 0 0;\n",
              "      width: 32px;\n",
              "    }\n",
              "\n",
              "    .colab-df-convert:hover {\n",
              "      background-color: #E2EBFA;\n",
              "      box-shadow: 0px 1px 2px rgba(60, 64, 67, 0.3), 0px 1px 3px 1px rgba(60, 64, 67, 0.15);\n",
              "      fill: #174EA6;\n",
              "    }\n",
              "\n",
              "    .colab-df-buttons div {\n",
              "      margin-bottom: 4px;\n",
              "    }\n",
              "\n",
              "    [theme=dark] .colab-df-convert {\n",
              "      background-color: #3B4455;\n",
              "      fill: #D2E3FC;\n",
              "    }\n",
              "\n",
              "    [theme=dark] .colab-df-convert:hover {\n",
              "      background-color: #434B5C;\n",
              "      box-shadow: 0px 1px 3px 1px rgba(0, 0, 0, 0.15);\n",
              "      filter: drop-shadow(0px 1px 2px rgba(0, 0, 0, 0.3));\n",
              "      fill: #FFFFFF;\n",
              "    }\n",
              "  </style>\n",
              "\n",
              "    <script>\n",
              "      const buttonEl =\n",
              "        document.querySelector('#df-a3a57ead-0f7b-4e42-b224-2d97972472e0 button.colab-df-convert');\n",
              "      buttonEl.style.display =\n",
              "        google.colab.kernel.accessAllowed ? 'block' : 'none';\n",
              "\n",
              "      async function convertToInteractive(key) {\n",
              "        const element = document.querySelector('#df-a3a57ead-0f7b-4e42-b224-2d97972472e0');\n",
              "        const dataTable =\n",
              "          await google.colab.kernel.invokeFunction('convertToInteractive',\n",
              "                                                    [key], {});\n",
              "        if (!dataTable) return;\n",
              "\n",
              "        const docLinkHtml = 'Like what you see? Visit the ' +\n",
              "          '<a target=\"_blank\" href=https://colab.research.google.com/notebooks/data_table.ipynb>data table notebook</a>'\n",
              "          + ' to learn more about interactive tables.';\n",
              "        element.innerHTML = '';\n",
              "        dataTable['output_type'] = 'display_data';\n",
              "        await google.colab.output.renderOutput(dataTable, element);\n",
              "        const docLink = document.createElement('div');\n",
              "        docLink.innerHTML = docLinkHtml;\n",
              "        element.appendChild(docLink);\n",
              "      }\n",
              "    </script>\n",
              "  </div>\n",
              "\n",
              "\n",
              "<div id=\"df-72346958-6e57-451f-9d77-dcf4127458c3\">\n",
              "  <button class=\"colab-df-quickchart\" onclick=\"quickchart('df-72346958-6e57-451f-9d77-dcf4127458c3')\"\n",
              "            title=\"Suggest charts\"\n",
              "            style=\"display:none;\">\n",
              "\n",
              "<svg xmlns=\"http://www.w3.org/2000/svg\" height=\"24px\"viewBox=\"0 0 24 24\"\n",
              "     width=\"24px\">\n",
              "    <g>\n",
              "        <path d=\"M19 3H5c-1.1 0-2 .9-2 2v14c0 1.1.9 2 2 2h14c1.1 0 2-.9 2-2V5c0-1.1-.9-2-2-2zM9 17H7v-7h2v7zm4 0h-2V7h2v10zm4 0h-2v-4h2v4z\"/>\n",
              "    </g>\n",
              "</svg>\n",
              "  </button>\n",
              "\n",
              "<style>\n",
              "  .colab-df-quickchart {\n",
              "      --bg-color: #E8F0FE;\n",
              "      --fill-color: #1967D2;\n",
              "      --hover-bg-color: #E2EBFA;\n",
              "      --hover-fill-color: #174EA6;\n",
              "      --disabled-fill-color: #AAA;\n",
              "      --disabled-bg-color: #DDD;\n",
              "  }\n",
              "\n",
              "  [theme=dark] .colab-df-quickchart {\n",
              "      --bg-color: #3B4455;\n",
              "      --fill-color: #D2E3FC;\n",
              "      --hover-bg-color: #434B5C;\n",
              "      --hover-fill-color: #FFFFFF;\n",
              "      --disabled-bg-color: #3B4455;\n",
              "      --disabled-fill-color: #666;\n",
              "  }\n",
              "\n",
              "  .colab-df-quickchart {\n",
              "    background-color: var(--bg-color);\n",
              "    border: none;\n",
              "    border-radius: 50%;\n",
              "    cursor: pointer;\n",
              "    display: none;\n",
              "    fill: var(--fill-color);\n",
              "    height: 32px;\n",
              "    padding: 0;\n",
              "    width: 32px;\n",
              "  }\n",
              "\n",
              "  .colab-df-quickchart:hover {\n",
              "    background-color: var(--hover-bg-color);\n",
              "    box-shadow: 0 1px 2px rgba(60, 64, 67, 0.3), 0 1px 3px 1px rgba(60, 64, 67, 0.15);\n",
              "    fill: var(--button-hover-fill-color);\n",
              "  }\n",
              "\n",
              "  .colab-df-quickchart-complete:disabled,\n",
              "  .colab-df-quickchart-complete:disabled:hover {\n",
              "    background-color: var(--disabled-bg-color);\n",
              "    fill: var(--disabled-fill-color);\n",
              "    box-shadow: none;\n",
              "  }\n",
              "\n",
              "  .colab-df-spinner {\n",
              "    border: 2px solid var(--fill-color);\n",
              "    border-color: transparent;\n",
              "    border-bottom-color: var(--fill-color);\n",
              "    animation:\n",
              "      spin 1s steps(1) infinite;\n",
              "  }\n",
              "\n",
              "  @keyframes spin {\n",
              "    0% {\n",
              "      border-color: transparent;\n",
              "      border-bottom-color: var(--fill-color);\n",
              "      border-left-color: var(--fill-color);\n",
              "    }\n",
              "    20% {\n",
              "      border-color: transparent;\n",
              "      border-left-color: var(--fill-color);\n",
              "      border-top-color: var(--fill-color);\n",
              "    }\n",
              "    30% {\n",
              "      border-color: transparent;\n",
              "      border-left-color: var(--fill-color);\n",
              "      border-top-color: var(--fill-color);\n",
              "      border-right-color: var(--fill-color);\n",
              "    }\n",
              "    40% {\n",
              "      border-color: transparent;\n",
              "      border-right-color: var(--fill-color);\n",
              "      border-top-color: var(--fill-color);\n",
              "    }\n",
              "    60% {\n",
              "      border-color: transparent;\n",
              "      border-right-color: var(--fill-color);\n",
              "    }\n",
              "    80% {\n",
              "      border-color: transparent;\n",
              "      border-right-color: var(--fill-color);\n",
              "      border-bottom-color: var(--fill-color);\n",
              "    }\n",
              "    90% {\n",
              "      border-color: transparent;\n",
              "      border-bottom-color: var(--fill-color);\n",
              "    }\n",
              "  }\n",
              "</style>\n",
              "\n",
              "  <script>\n",
              "    async function quickchart(key) {\n",
              "      const quickchartButtonEl =\n",
              "        document.querySelector('#' + key + ' button');\n",
              "      quickchartButtonEl.disabled = true;  // To prevent multiple clicks.\n",
              "      quickchartButtonEl.classList.add('colab-df-spinner');\n",
              "      try {\n",
              "        const charts = await google.colab.kernel.invokeFunction(\n",
              "            'suggestCharts', [key], {});\n",
              "      } catch (error) {\n",
              "        console.error('Error during call to suggestCharts:', error);\n",
              "      }\n",
              "      quickchartButtonEl.classList.remove('colab-df-spinner');\n",
              "      quickchartButtonEl.classList.add('colab-df-quickchart-complete');\n",
              "    }\n",
              "    (() => {\n",
              "      let quickchartButtonEl =\n",
              "        document.querySelector('#df-72346958-6e57-451f-9d77-dcf4127458c3 button');\n",
              "      quickchartButtonEl.style.display =\n",
              "        google.colab.kernel.accessAllowed ? 'block' : 'none';\n",
              "    })();\n",
              "  </script>\n",
              "</div>\n",
              "\n",
              "  <div id=\"id_239ebb15-bb71-47be-be49-8573f25ca13b\">\n",
              "    <style>\n",
              "      .colab-df-generate {\n",
              "        background-color: #E8F0FE;\n",
              "        border: none;\n",
              "        border-radius: 50%;\n",
              "        cursor: pointer;\n",
              "        display: none;\n",
              "        fill: #1967D2;\n",
              "        height: 32px;\n",
              "        padding: 0 0 0 0;\n",
              "        width: 32px;\n",
              "      }\n",
              "\n",
              "      .colab-df-generate:hover {\n",
              "        background-color: #E2EBFA;\n",
              "        box-shadow: 0px 1px 2px rgba(60, 64, 67, 0.3), 0px 1px 3px 1px rgba(60, 64, 67, 0.15);\n",
              "        fill: #174EA6;\n",
              "      }\n",
              "\n",
              "      [theme=dark] .colab-df-generate {\n",
              "        background-color: #3B4455;\n",
              "        fill: #D2E3FC;\n",
              "      }\n",
              "\n",
              "      [theme=dark] .colab-df-generate:hover {\n",
              "        background-color: #434B5C;\n",
              "        box-shadow: 0px 1px 3px 1px rgba(0, 0, 0, 0.15);\n",
              "        filter: drop-shadow(0px 1px 2px rgba(0, 0, 0, 0.3));\n",
              "        fill: #FFFFFF;\n",
              "      }\n",
              "    </style>\n",
              "    <button class=\"colab-df-generate\" onclick=\"generateWithVariable('df')\"\n",
              "            title=\"Generate code using this dataframe.\"\n",
              "            style=\"display:none;\">\n",
              "\n",
              "  <svg xmlns=\"http://www.w3.org/2000/svg\" height=\"24px\"viewBox=\"0 0 24 24\"\n",
              "       width=\"24px\">\n",
              "    <path d=\"M7,19H8.4L18.45,9,17,7.55,7,17.6ZM5,21V16.75L18.45,3.32a2,2,0,0,1,2.83,0l1.4,1.43a1.91,1.91,0,0,1,.58,1.4,1.91,1.91,0,0,1-.58,1.4L9.25,21ZM18.45,9,17,7.55Zm-12,3A5.31,5.31,0,0,0,4.9,8.1,5.31,5.31,0,0,0,1,6.5,5.31,5.31,0,0,0,4.9,4.9,5.31,5.31,0,0,0,6.5,1,5.31,5.31,0,0,0,8.1,4.9,5.31,5.31,0,0,0,12,6.5,5.46,5.46,0,0,0,6.5,12Z\"/>\n",
              "  </svg>\n",
              "    </button>\n",
              "    <script>\n",
              "      (() => {\n",
              "      const buttonEl =\n",
              "        document.querySelector('#id_239ebb15-bb71-47be-be49-8573f25ca13b button.colab-df-generate');\n",
              "      buttonEl.style.display =\n",
              "        google.colab.kernel.accessAllowed ? 'block' : 'none';\n",
              "\n",
              "      buttonEl.onclick = () => {\n",
              "        google.colab.notebook.generateWithVariable('df');\n",
              "      }\n",
              "      })();\n",
              "    </script>\n",
              "  </div>\n",
              "\n",
              "    </div>\n",
              "  </div>\n"
            ],
            "application/vnd.google.colaboratory.intrinsic+json": {
              "type": "dataframe",
              "variable_name": "df",
              "summary": "{\n  \"name\": \"df\",\n  \"rows\": 675,\n  \"fields\": [\n    {\n      \"column\": \"customer_id\",\n      \"properties\": {\n        \"dtype\": \"number\",\n        \"std\": 195,\n        \"min\": 1,\n        \"max\": 675,\n        \"num_unique_values\": 675,\n        \"samples\": [\n          397,\n          303,\n          674\n        ],\n        \"semantic_type\": \"\",\n        \"description\": \"\"\n      }\n    },\n    {\n      \"column\": \"contactability_score\",\n      \"properties\": {\n        \"dtype\": \"number\",\n        \"std\": 0.2867373576722546,\n        \"min\": 0.001,\n        \"max\": 0.999,\n        \"num_unique_values\": 668,\n        \"samples\": [\n          0.125,\n          0.328,\n          0.929\n        ],\n        \"semantic_type\": \"\",\n        \"description\": \"\"\n      }\n    },\n    {\n      \"column\": \"total_debt\",\n      \"properties\": {\n        \"dtype\": \"number\",\n        \"std\": 0,\n        \"min\": 1000,\n        \"max\": 1000,\n        \"num_unique_values\": 1,\n        \"samples\": [\n          1000\n        ],\n        \"semantic_type\": \"\",\n        \"description\": \"\"\n      }\n    },\n    {\n      \"column\": \"interest\",\n      \"properties\": {\n        \"dtype\": \"number\",\n        \"std\": 0,\n        \"min\": 150,\n        \"max\": 150,\n        \"num_unique_values\": 1,\n        \"samples\": [\n          150\n        ],\n        \"semantic_type\": \"\",\n        \"description\": \"\"\n      }\n    },\n    {\n      \"column\": \"Cost_of_call\",\n      \"properties\": {\n        \"dtype\": \"number\",\n        \"std\": 0,\n        \"min\": 30,\n        \"max\": 30,\n        \"num_unique_values\": 1,\n        \"samples\": [\n          30\n        ],\n        \"semantic_type\": \"\",\n        \"description\": \"\"\n      }\n    },\n    {\n      \"column\": \"debt_plus_interest\",\n      \"properties\": {\n        \"dtype\": \"number\",\n        \"std\": 0,\n        \"min\": 1150,\n        \"max\": 1150,\n        \"num_unique_values\": 1,\n        \"samples\": [\n          1150\n        ],\n        \"semantic_type\": \"\",\n        \"description\": \"\"\n      }\n    },\n    {\n      \"column\": \"probability_of_payment\",\n      \"properties\": {\n        \"dtype\": \"number\",\n        \"std\": 0.0,\n        \"min\": 0.75,\n        \"max\": 0.75,\n        \"num_unique_values\": 1,\n        \"samples\": [\n          0.75\n        ],\n        \"semantic_type\": \"\",\n        \"description\": \"\"\n      }\n    },\n    {\n      \"column\": \"recover_probability\",\n      \"properties\": {\n        \"dtype\": \"number\",\n        \"std\": 0.21505301825419096,\n        \"min\": 0.00075,\n        \"max\": 0.74925,\n        \"num_unique_values\": 668,\n        \"samples\": [\n          0.09375\n        ],\n        \"semantic_type\": \"\",\n        \"description\": \"\"\n      }\n    },\n    {\n      \"column\": \"recover_account\",\n      \"properties\": {\n        \"dtype\": \"number\",\n        \"std\": 0,\n        \"min\": 0,\n        \"max\": 1,\n        \"num_unique_values\": 2,\n        \"samples\": [\n          1\n        ],\n        \"semantic_type\": \"\",\n        \"description\": \"\"\n      }\n    }\n  ]\n}"
            }
          },
          "metadata": {},
          "execution_count": 24
        }
      ]
    },
    {
      "cell_type": "code",
      "source": [
        "df.shape"
      ],
      "metadata": {
        "colab": {
          "base_uri": "https://localhost:8080/"
        },
        "id": "sBnqy442aeLx",
        "outputId": "fffea052-2d04-42a0-cdea-81f8323a3ff9"
      },
      "execution_count": 3,
      "outputs": [
        {
          "output_type": "execute_result",
          "data": {
            "text/plain": [
              "(675, 4)"
            ]
          },
          "metadata": {},
          "execution_count": 3
        }
      ]
    },
    {
      "cell_type": "code",
      "source": [
        "df['Cost_of_call'] = 30\n",
        "df['debt_plus_interest'] = df.total_debt + df.interest\n",
        "df['probability_of_payment'] = 0.75\n",
        "df['recover_probability'] = df.contactability_score*df.probability_of_payment"
      ],
      "metadata": {
        "id": "Z2jMAGV3TGvF"
      },
      "execution_count": 4,
      "outputs": []
    },
    {
      "cell_type": "markdown",
      "source": [
        "## Visualization"
      ],
      "metadata": {
        "id": "lmLivQSJpfZA"
      }
    },
    {
      "cell_type": "code",
      "source": [
        "fig = px.box(df.recover_probability, points='all')\n",
        "fig.update_xaxes(title=\"Recover Probability\")"
      ],
      "metadata": {
        "colab": {
          "base_uri": "https://localhost:8080/",
          "height": 542
        },
        "id": "nWCrvTlLunG7",
        "outputId": "7cea9169-70a0-47d5-f2fb-4a107fe30014"
      },
      "execution_count": 27,
      "outputs": [
        {
          "output_type": "display_data",
          "data": {
            "text/html": [
              "<html>\n",
              "<head><meta charset=\"utf-8\" /></head>\n",
              "<body>\n",
              "    <div>            <script src=\"https://cdnjs.cloudflare.com/ajax/libs/mathjax/2.7.5/MathJax.js?config=TeX-AMS-MML_SVG\"></script><script type=\"text/javascript\">if (window.MathJax && window.MathJax.Hub && window.MathJax.Hub.Config) {window.MathJax.Hub.Config({SVG: {font: \"STIX-Web\"}});}</script>                <script type=\"text/javascript\">window.PlotlyConfig = {MathJaxConfig: 'local'};</script>\n",
              "        <script charset=\"utf-8\" src=\"https://cdn.plot.ly/plotly-2.24.1.min.js\"></script>                <div id=\"d29cfeec-8df5-4bb7-8981-edf1b8311e66\" class=\"plotly-graph-div\" style=\"height:525px; width:100%;\"></div>            <script type=\"text/javascript\">                                    window.PLOTLYENV=window.PLOTLYENV || {};                                    if (document.getElementById(\"d29cfeec-8df5-4bb7-8981-edf1b8311e66\")) {                    Plotly.newPlot(                        \"d29cfeec-8df5-4bb7-8981-edf1b8311e66\",                        [{\"alignmentgroup\":\"True\",\"boxpoints\":\"all\",\"hovertemplate\":\"variable=%{x}\\u003cbr\\u003evalue=%{y}\\u003cextra\\u003e\\u003c\\u002fextra\\u003e\",\"legendgroup\":\"\",\"marker\":{\"color\":\"#636efa\"},\"name\":\"\",\"notched\":false,\"offsetgroup\":\"\",\"orientation\":\"v\",\"showlegend\":false,\"x\":[\"recover_probability\",\"recover_probability\",\"recover_probability\",\"recover_probability\",\"recover_probability\",\"recover_probability\",\"recover_probability\",\"recover_probability\",\"recover_probability\",\"recover_probability\",\"recover_probability\",\"recover_probability\",\"recover_probability\",\"recover_probability\",\"recover_probability\",\"recover_probability\",\"recover_probability\",\"recover_probability\",\"recover_probability\",\"recover_probability\",\"recover_probability\",\"recover_probability\",\"recover_probability\",\"recover_probability\",\"recover_probability\",\"recover_probability\",\"recover_probability\",\"recover_probability\",\"recover_probability\",\"recover_probability\",\"recover_probability\",\"recover_probability\",\"recover_probability\",\"recover_probability\",\"recover_probability\",\"recover_probability\",\"recover_probability\",\"recover_probability\",\"recover_probability\",\"recover_probability\",\"recover_probability\",\"recover_probability\",\"recover_probability\",\"recover_probability\",\"recover_probability\",\"recover_probability\",\"recover_probability\",\"recover_probability\",\"recover_probability\",\"recover_probability\",\"recover_probability\",\"recover_probability\",\"recover_probability\",\"recover_probability\",\"recover_probability\",\"recover_probability\",\"recover_probability\",\"recover_probability\",\"recover_probability\",\"recover_probability\",\"recover_probability\",\"recover_probability\",\"recover_probability\",\"recover_probability\",\"recover_probability\",\"recover_probability\",\"recover_probability\",\"recover_probability\",\"recover_probability\",\"recover_probability\",\"recover_probability\",\"recover_probability\",\"recover_probability\",\"recover_probability\",\"recover_probability\",\"recover_probability\",\"recover_probability\",\"recover_probability\",\"recover_probability\",\"recover_probability\",\"recover_probability\",\"recover_probability\",\"recover_probability\",\"recover_probability\",\"recover_probability\",\"recover_probability\",\"recover_probability\",\"recover_probability\",\"recover_probability\",\"recover_probability\",\"recover_probability\",\"recover_probability\",\"recover_probability\",\"recover_probability\",\"recover_probability\",\"recover_probability\",\"recover_probability\",\"recover_probability\",\"recover_probability\",\"recover_probability\",\"recover_probability\",\"recover_probability\",\"recover_probability\",\"recover_probability\",\"recover_probability\",\"recover_probability\",\"recover_probability\",\"recover_probability\",\"recover_probability\",\"recover_probability\",\"recover_probability\",\"recover_probability\",\"recover_probability\",\"recover_probability\",\"recover_probability\",\"recover_probability\",\"recover_probability\",\"recover_probability\",\"recover_probability\",\"recover_probability\",\"recover_probability\",\"recover_probability\",\"recover_probability\",\"recover_probability\",\"recover_probability\",\"recover_probability\",\"recover_probability\",\"recover_probability\",\"recover_probability\",\"recover_probability\",\"recover_probability\",\"recover_probability\",\"recover_probability\",\"recover_probability\",\"recover_probability\",\"recover_probability\",\"recover_probability\",\"recover_probability\",\"recover_probability\",\"recover_probability\",\"recover_probability\",\"recover_probability\",\"recover_probability\",\"recover_probability\",\"recover_probability\",\"recover_probability\",\"recover_probability\",\"recover_probability\",\"recover_probability\",\"recover_probability\",\"recover_probability\",\"recover_probability\",\"recover_probability\",\"recover_probability\",\"recover_probability\",\"recover_probability\",\"recover_probability\",\"recover_probability\",\"recover_probability\",\"recover_probability\",\"recover_probability\",\"recover_probability\",\"recover_probability\",\"recover_probability\",\"recover_probability\",\"recover_probability\",\"recover_probability\",\"recover_probability\",\"recover_probability\",\"recover_probability\",\"recover_probability\",\"recover_probability\",\"recover_probability\",\"recover_probability\",\"recover_probability\",\"recover_probability\",\"recover_probability\",\"recover_probability\",\"recover_probability\",\"recover_probability\",\"recover_probability\",\"recover_probability\",\"recover_probability\",\"recover_probability\",\"recover_probability\",\"recover_probability\",\"recover_probability\",\"recover_probability\",\"recover_probability\",\"recover_probability\",\"recover_probability\",\"recover_probability\",\"recover_probability\",\"recover_probability\",\"recover_probability\",\"recover_probability\",\"recover_probability\",\"recover_probability\",\"recover_probability\",\"recover_probability\",\"recover_probability\",\"recover_probability\",\"recover_probability\",\"recover_probability\",\"recover_probability\",\"recover_probability\",\"recover_probability\",\"recover_probability\",\"recover_probability\",\"recover_probability\",\"recover_probability\",\"recover_probability\",\"recover_probability\",\"recover_probability\",\"recover_probability\",\"recover_probability\",\"recover_probability\",\"recover_probability\",\"recover_probability\",\"recover_probability\",\"recover_probability\",\"recover_probability\",\"recover_probability\",\"recover_probability\",\"recover_probability\",\"recover_probability\",\"recover_probability\",\"recover_probability\",\"recover_probability\",\"recover_probability\",\"recover_probability\",\"recover_probability\",\"recover_probability\",\"recover_probability\",\"recover_probability\",\"recover_probability\",\"recover_probability\",\"recover_probability\",\"recover_probability\",\"recover_probability\",\"recover_probability\",\"recover_probability\",\"recover_probability\",\"recover_probability\",\"recover_probability\",\"recover_probability\",\"recover_probability\",\"recover_probability\",\"recover_probability\",\"recover_probability\",\"recover_probability\",\"recover_probability\",\"recover_probability\",\"recover_probability\",\"recover_probability\",\"recover_probability\",\"recover_probability\",\"recover_probability\",\"recover_probability\",\"recover_probability\",\"recover_probability\",\"recover_probability\",\"recover_probability\",\"recover_probability\",\"recover_probability\",\"recover_probability\",\"recover_probability\",\"recover_probability\",\"recover_probability\",\"recover_probability\",\"recover_probability\",\"recover_probability\",\"recover_probability\",\"recover_probability\",\"recover_probability\",\"recover_probability\",\"recover_probability\",\"recover_probability\",\"recover_probability\",\"recover_probability\",\"recover_probability\",\"recover_probability\",\"recover_probability\",\"recover_probability\",\"recover_probability\",\"recover_probability\",\"recover_probability\",\"recover_probability\",\"recover_probability\",\"recover_probability\",\"recover_probability\",\"recover_probability\",\"recover_probability\",\"recover_probability\",\"recover_probability\",\"recover_probability\",\"recover_probability\",\"recover_probability\",\"recover_probability\",\"recover_probability\",\"recover_probability\",\"recover_probability\",\"recover_probability\",\"recover_probability\",\"recover_probability\",\"recover_probability\",\"recover_probability\",\"recover_probability\",\"recover_probability\",\"recover_probability\",\"recover_probability\",\"recover_probability\",\"recover_probability\",\"recover_probability\",\"recover_probability\",\"recover_probability\",\"recover_probability\",\"recover_probability\",\"recover_probability\",\"recover_probability\",\"recover_probability\",\"recover_probability\",\"recover_probability\",\"recover_probability\",\"recover_probability\",\"recover_probability\",\"recover_probability\",\"recover_probability\",\"recover_probability\",\"recover_probability\",\"recover_probability\",\"recover_probability\",\"recover_probability\",\"recover_probability\",\"recover_probability\",\"recover_probability\",\"recover_probability\",\"recover_probability\",\"recover_probability\",\"recover_probability\",\"recover_probability\",\"recover_probability\",\"recover_probability\",\"recover_probability\",\"recover_probability\",\"recover_probability\",\"recover_probability\",\"recover_probability\",\"recover_probability\",\"recover_probability\",\"recover_probability\",\"recover_probability\",\"recover_probability\",\"recover_probability\",\"recover_probability\",\"recover_probability\",\"recover_probability\",\"recover_probability\",\"recover_probability\",\"recover_probability\",\"recover_probability\",\"recover_probability\",\"recover_probability\",\"recover_probability\",\"recover_probability\",\"recover_probability\",\"recover_probability\",\"recover_probability\",\"recover_probability\",\"recover_probability\",\"recover_probability\",\"recover_probability\",\"recover_probability\",\"recover_probability\",\"recover_probability\",\"recover_probability\",\"recover_probability\",\"recover_probability\",\"recover_probability\",\"recover_probability\",\"recover_probability\",\"recover_probability\",\"recover_probability\",\"recover_probability\",\"recover_probability\",\"recover_probability\",\"recover_probability\",\"recover_probability\",\"recover_probability\",\"recover_probability\",\"recover_probability\",\"recover_probability\",\"recover_probability\",\"recover_probability\",\"recover_probability\",\"recover_probability\",\"recover_probability\",\"recover_probability\",\"recover_probability\",\"recover_probability\",\"recover_probability\",\"recover_probability\",\"recover_probability\",\"recover_probability\",\"recover_probability\",\"recover_probability\",\"recover_probability\",\"recover_probability\",\"recover_probability\",\"recover_probability\",\"recover_probability\",\"recover_probability\",\"recover_probability\",\"recover_probability\",\"recover_probability\",\"recover_probability\",\"recover_probability\",\"recover_probability\",\"recover_probability\",\"recover_probability\",\"recover_probability\",\"recover_probability\",\"recover_probability\",\"recover_probability\",\"recover_probability\",\"recover_probability\",\"recover_probability\",\"recover_probability\",\"recover_probability\",\"recover_probability\",\"recover_probability\",\"recover_probability\",\"recover_probability\",\"recover_probability\",\"recover_probability\",\"recover_probability\",\"recover_probability\",\"recover_probability\",\"recover_probability\",\"recover_probability\",\"recover_probability\",\"recover_probability\",\"recover_probability\",\"recover_probability\",\"recover_probability\",\"recover_probability\",\"recover_probability\",\"recover_probability\",\"recover_probability\",\"recover_probability\",\"recover_probability\",\"recover_probability\",\"recover_probability\",\"recover_probability\",\"recover_probability\",\"recover_probability\",\"recover_probability\",\"recover_probability\",\"recover_probability\",\"recover_probability\",\"recover_probability\",\"recover_probability\",\"recover_probability\",\"recover_probability\",\"recover_probability\",\"recover_probability\",\"recover_probability\",\"recover_probability\",\"recover_probability\",\"recover_probability\",\"recover_probability\",\"recover_probability\",\"recover_probability\",\"recover_probability\",\"recover_probability\",\"recover_probability\",\"recover_probability\",\"recover_probability\",\"recover_probability\",\"recover_probability\",\"recover_probability\",\"recover_probability\",\"recover_probability\",\"recover_probability\",\"recover_probability\",\"recover_probability\",\"recover_probability\",\"recover_probability\",\"recover_probability\",\"recover_probability\",\"recover_probability\",\"recover_probability\",\"recover_probability\",\"recover_probability\",\"recover_probability\",\"recover_probability\",\"recover_probability\",\"recover_probability\",\"recover_probability\",\"recover_probability\",\"recover_probability\",\"recover_probability\",\"recover_probability\",\"recover_probability\",\"recover_probability\",\"recover_probability\",\"recover_probability\",\"recover_probability\",\"recover_probability\",\"recover_probability\",\"recover_probability\",\"recover_probability\",\"recover_probability\",\"recover_probability\",\"recover_probability\",\"recover_probability\",\"recover_probability\",\"recover_probability\",\"recover_probability\",\"recover_probability\",\"recover_probability\",\"recover_probability\",\"recover_probability\",\"recover_probability\",\"recover_probability\",\"recover_probability\",\"recover_probability\",\"recover_probability\",\"recover_probability\",\"recover_probability\",\"recover_probability\",\"recover_probability\",\"recover_probability\",\"recover_probability\",\"recover_probability\",\"recover_probability\",\"recover_probability\",\"recover_probability\",\"recover_probability\",\"recover_probability\",\"recover_probability\",\"recover_probability\",\"recover_probability\",\"recover_probability\",\"recover_probability\",\"recover_probability\",\"recover_probability\",\"recover_probability\",\"recover_probability\",\"recover_probability\",\"recover_probability\",\"recover_probability\",\"recover_probability\",\"recover_probability\",\"recover_probability\",\"recover_probability\",\"recover_probability\",\"recover_probability\",\"recover_probability\",\"recover_probability\",\"recover_probability\",\"recover_probability\",\"recover_probability\",\"recover_probability\",\"recover_probability\",\"recover_probability\",\"recover_probability\",\"recover_probability\",\"recover_probability\",\"recover_probability\",\"recover_probability\",\"recover_probability\",\"recover_probability\",\"recover_probability\",\"recover_probability\",\"recover_probability\",\"recover_probability\",\"recover_probability\",\"recover_probability\",\"recover_probability\",\"recover_probability\",\"recover_probability\",\"recover_probability\",\"recover_probability\",\"recover_probability\",\"recover_probability\",\"recover_probability\",\"recover_probability\",\"recover_probability\",\"recover_probability\",\"recover_probability\",\"recover_probability\",\"recover_probability\",\"recover_probability\",\"recover_probability\",\"recover_probability\",\"recover_probability\",\"recover_probability\",\"recover_probability\",\"recover_probability\",\"recover_probability\",\"recover_probability\",\"recover_probability\",\"recover_probability\",\"recover_probability\",\"recover_probability\",\"recover_probability\",\"recover_probability\",\"recover_probability\",\"recover_probability\",\"recover_probability\",\"recover_probability\",\"recover_probability\",\"recover_probability\",\"recover_probability\",\"recover_probability\",\"recover_probability\",\"recover_probability\",\"recover_probability\",\"recover_probability\",\"recover_probability\",\"recover_probability\",\"recover_probability\",\"recover_probability\",\"recover_probability\",\"recover_probability\",\"recover_probability\",\"recover_probability\",\"recover_probability\",\"recover_probability\",\"recover_probability\",\"recover_probability\",\"recover_probability\",\"recover_probability\",\"recover_probability\",\"recover_probability\",\"recover_probability\",\"recover_probability\",\"recover_probability\",\"recover_probability\",\"recover_probability\",\"recover_probability\",\"recover_probability\",\"recover_probability\",\"recover_probability\",\"recover_probability\",\"recover_probability\",\"recover_probability\",\"recover_probability\",\"recover_probability\",\"recover_probability\",\"recover_probability\",\"recover_probability\",\"recover_probability\",\"recover_probability\",\"recover_probability\",\"recover_probability\",\"recover_probability\",\"recover_probability\",\"recover_probability\",\"recover_probability\",\"recover_probability\",\"recover_probability\",\"recover_probability\",\"recover_probability\",\"recover_probability\",\"recover_probability\",\"recover_probability\",\"recover_probability\",\"recover_probability\",\"recover_probability\",\"recover_probability\",\"recover_probability\",\"recover_probability\",\"recover_probability\"],\"x0\":\" \",\"xaxis\":\"x\",\"y\":[0.21975,0.1875,0.02475,0.17925,0.51075,0.177,0.4035,0.16125,0.009000000000000001,0.312,0.6082500000000001,0.15150000000000002,0.46425,0.018750000000000003,0.021,0.099,0.62025,0.22875,0.021750000000000002,0.025500000000000002,0.036750000000000005,0.192,0.40725,0.39525,0.21449999999999997,0.3195,0.078,0.35100000000000003,0.17625,0.07425000000000001,0.53925,0.09975,0.3405,0.5835,0.2355,0.0885,0.00075,0.5167499999999999,0.726,0.4275,0.00975,0.051750000000000004,0.20400000000000001,0.4485,0.31124999999999997,0.41850000000000004,0.19725,0.1575,0.0075,0.21075000000000002,0.1215,0.02325,0.22349999999999998,0.5549999999999999,0.06075,0.11324999999999999,0.6255,0.6127499999999999,0.39375000000000004,0.51525,0.3045,0.129,0.60975,0.153,0.03075,0.036000000000000004,0.42000000000000004,0.09075,0.31725,0.165,0.72375,0.66675,0.30225,0.0015,0.6187499999999999,0.42899999999999994,0.2415,0.40275000000000005,0.08625000000000001,0.61125,0.5805,0.055499999999999994,0.09525,0.47250000000000003,0.61425,0.7155,0.0765,0.49275,0.6487499999999999,0.25725000000000003,0.07050000000000001,0.63825,0.0795,0.03,0.40125,0.6765,0.156,0.17025,0.74475,0.04575,0.717,0.384,0.20550000000000002,0.5640000000000001,0.45899999999999996,0.309,0.5955,0.04425,0.07350000000000001,0.61575,0.69525,0.28200000000000003,0.012,0.567,0.4605,0.33225,0.0165,0.48150000000000004,0.30674999999999997,0.501,0.47475,0.71175,0.6315,0.20325000000000001,0.5595,0.3765,0.07725,0.354,0.12525,0.0675,0.1995,0.49575,0.00525,0.6022500000000001,0.0945,0.14550000000000002,0.5760000000000001,0.585,0.6817500000000001,0.5122500000000001,0.25275000000000003,0.063,0.018000000000000002,0.11024999999999999,0.50925,0.28875,0.66075,0.73425,0.5820000000000001,0.10500000000000001,0.49425,0.35775,0.1785,0.06225,0.12225,0.36,0.029249999999999998,0.6637500000000001,0.246,0.2925,0.0195,0.10724999999999998,0.05925,0.162,0.15525,0.5055000000000001,0.46199999999999997,0.34575,0.6585,0.21299999999999997,0.4365,0.53175,0.14475,0.013499999999999998,0.366,0.237,0.27749999999999997,0.1965,0.3675,0.006749999999999999,0.21599999999999997,0.07875,0.1935,0.5025000000000001,0.10350000000000001,0.09675,0.22725,0.5940000000000001,0.024,0.243,0.276,0.048,0.498,0.0225,0.26775,0.24975000000000003,0.68325,0.1245,0.006,0.14700000000000002,0.6997500000000001,0.28500000000000003,0.47775,0.0855,0.38175000000000003,0.5249999999999999,0.027749999999999997,0.0195,0.741,0.01575,0.14024999999999999,0.015,0.53775,0.46575,0.63,0.035250000000000004,0.34500000000000003,0.34950000000000003,0.27,0.10275000000000001,0.037500000000000006,0.30000000000000004,0.23025,0.15375,0.47925,0.08175,0.35624999999999996,0.11174999999999999,0.026250000000000002,0.15825,0.44999999999999996,0.489,0.3165,0.30075,0.05399999999999999,0.3075,0.38925,0.44475,0.03225,0.528,0.339,0.28800000000000003,0.46950000000000003,0.23625000000000002,0.49125,0.7395,0.2955,0.63975,0.558,0.10649999999999998,0.74625,0.3315,0.26549999999999996,0.44325,0.093,0.08700000000000001,0.0915,0.267,0.7184999999999999,0.34875,0.5625,0.1845,0.579,0.28049999999999997,0.22649999999999998,0.1365,0.12,0.18525,0.42150000000000004,0.6427499999999999,0.0615,0.27975,0.183,0.10799999999999998,0.5609999999999999,0.738,0.5295,0.60375,0.6915,0.483,0.5700000000000001,0.18,0.54075,0.23925000000000002,0.3735,0.17475000000000002,0.3345,0.1815,0.21149999999999997,0.72225,0.43799999999999994,0.132,0.069,0.273,0.64425,0.10574999999999998,0.16725,0.0045000000000000005,0.6555,0.14250000000000002,0.33375,0.68025,0.08475,0.013499999999999998,0.3825,0.11399999999999999,0.624,0.3555,0.41775000000000007,0.6052500000000001,0.033,0.42224999999999996,0.1695,0.35924999999999996,0.41475000000000006,0.24,0.08925,0.7484999999999999,0.675,0.5175,0.24825000000000003,0.1905,0.45075,0.00375,0.37424999999999997,0.51375,0.1185,0.07125000000000001,0.17400000000000002,0.5865,0.2475,0.35175,0.30300000000000005,0.54525,0.04125,0.0405,0.0975,0.43424999999999997,0.2385,0.2445,0.04725,0.73275,0.135,0.31575,0.16275,0.32775,0.026999999999999996,0.045,0.25949999999999995,0.08775000000000001,0.16575,0.1335,0.081,0.5745,0.405,0.38775000000000004,0.6885,0.41250000000000003,0.591,0.04275,0.55275,0.05324999999999999,0.399,0.09375,0.30974999999999997,0.25125000000000003,0.07500000000000001,0.01725,0.17550000000000002,0.3645,0.01125,0.42674999999999996,0.7304999999999999,0.18075,0.24525000000000002,0.5655,0.1635,0.5880000000000001,0.2835,0.39,0.056999999999999995,0.14775,0.74325,0.44025,0.20925000000000002,0.168,0.41025,0.486,0.003,0.06375,0.33825,0.36375,0.5235,0.3135,0.09825,0.10949999999999999,0.27525,0.6705,0.54375,0.36975,0.7035,0.5565,0.61725,0.043500000000000004,0.171,0.597,0.25425000000000003,0.20625000000000002,0.64125,0.11249999999999999,0.20700000000000002,0.23325,0.37575000000000003,0.74925,0.42524999999999996,0.3855,0.45599999999999996,0.09225,0.25575000000000003,0.4575,0.12825,0.5895,0.41400000000000003,0.05025,0.627,0.47625,0.21000000000000002,0.05474999999999999,0.573,0.43124999999999997,0.056249999999999994,0.23399999999999999,0.12375,0.0105,0.06,0.11925,0.03375,0.189,0.22049999999999997,0.06825,0.38625,0.705,0.126,0.7072499999999999,0.21749999999999997,0.26925,0.474,0.33,0.29100000000000004,0.672,0.08025,0.44699999999999995,0.24225000000000002,0.3435,0.028499999999999998,0.36824999999999997,0.40875000000000006,0.22425,0.4395,0.378,0.34275,0.23249999999999998,0.13874999999999998,0.08325,0.7102499999999999,0.5685,0.21675,0.64575,0.372,0.11549999999999999,0.5265,0.53325,0.7275,0.11624999999999999,0.1005,0.06525,0.07275000000000001,0.48750000000000004,0.54975,0.69675,0.6900000000000001,0.687,0.60075,0.02025,0.4455,0.636,0.651,0.07200000000000001,0.036000000000000004,0.2565,0.54825,0.03975,0.27075,0.07575000000000001,0.45525,0.729,0.53475,0.20775000000000002,0.19275,0.396,0.29025,0.29475,0.35324999999999995,0.15075,0.60675,0.3795,0.29325,0.6525,0.051000000000000004,0.26175,0.21825,0.052500000000000005,0.084,0.18375,0.32175,0.654,0.22275,0.6345,0.0495,0.4305,0.03825,0.6735,0.22575,0.21375,0.66525,0.261,0.45375,0.201,0.014249999999999999,0.44175,0.41100000000000003,0.43574999999999997,0.39975000000000005,0.73575,0.64725,0.10125,0.28575,0.13424999999999998,0.33675,0.12075,0.66225,0.50775,0.5775,0.38025,0.48075,0.14850000000000002,0.13124999999999998,0.11775,0.2535,0.32325,0.13274999999999998,0.66825,0.40650000000000003,0.12974999999999998,0.48450000000000004,0.0315,0.096,0.195,0.69825,0.29775,0.5715,0.5535,0.46799999999999997,0.36224999999999996,0.18825,0.67875,0.324,0.54225,0.31875,0.0345,0.14175,0.31425,0.49725,0.14100000000000001,0.159,0.25875,0.026999999999999996,0.3915,0.6224999999999999,0.0022500000000000003,0.34125,0.264,0.49950000000000006,0.0645,0.522,0.633,0.6285,0.3975,0.10874999999999999,0.32625,0.057749999999999996,0.42374999999999996,0.05025,0.00825,0.06975,0.15000000000000002,0.042,0.3285,0.17175,0.30524999999999997,0.11099999999999999,0.22125,0.28275,0.504,0.321,0.3615,0.54675,0.10200000000000001,0.1275,0.27825,0.14400000000000002,0.5925,0.1395,0.19575,0.26249999999999996,0.714,0.0022500000000000003,0.46725,0.3705,0.68475,0.28725,0.471,0.46275,0.12675,0.14625,0.22949999999999998,0.19875,0.058499999999999996,0.72075,0.18675,0.23099999999999998,0.0465,0.0825,0.138,0.45225,0.5205,0.2985,0.19125,0.43274999999999997,0.7020000000000001,0.2505,0.657,0.41625,0.13574999999999998,0.066,0.507,0.5189999999999999,0.53625,0.15675,0.06675,0.11699999999999999,0.039,0.012750000000000001,0.26475,0.1665,0.336,0.20025,0.27449999999999997,0.70875,0.27225,0.39225,0.6937500000000001,0.2025,0.1605,0.0075,0.5309999999999999,0.55125,0.5985,0.04875,0.15225,0.34725,0.3255,0.29700000000000004,0.17250000000000001,0.48975],\"y0\":\" \",\"yaxis\":\"y\",\"type\":\"box\"}],                        {\"template\":{\"data\":{\"histogram2dcontour\":[{\"type\":\"histogram2dcontour\",\"colorbar\":{\"outlinewidth\":0,\"ticks\":\"\"},\"colorscale\":[[0.0,\"#0d0887\"],[0.1111111111111111,\"#46039f\"],[0.2222222222222222,\"#7201a8\"],[0.3333333333333333,\"#9c179e\"],[0.4444444444444444,\"#bd3786\"],[0.5555555555555556,\"#d8576b\"],[0.6666666666666666,\"#ed7953\"],[0.7777777777777778,\"#fb9f3a\"],[0.8888888888888888,\"#fdca26\"],[1.0,\"#f0f921\"]]}],\"choropleth\":[{\"type\":\"choropleth\",\"colorbar\":{\"outlinewidth\":0,\"ticks\":\"\"}}],\"histogram2d\":[{\"type\":\"histogram2d\",\"colorbar\":{\"outlinewidth\":0,\"ticks\":\"\"},\"colorscale\":[[0.0,\"#0d0887\"],[0.1111111111111111,\"#46039f\"],[0.2222222222222222,\"#7201a8\"],[0.3333333333333333,\"#9c179e\"],[0.4444444444444444,\"#bd3786\"],[0.5555555555555556,\"#d8576b\"],[0.6666666666666666,\"#ed7953\"],[0.7777777777777778,\"#fb9f3a\"],[0.8888888888888888,\"#fdca26\"],[1.0,\"#f0f921\"]]}],\"heatmap\":[{\"type\":\"heatmap\",\"colorbar\":{\"outlinewidth\":0,\"ticks\":\"\"},\"colorscale\":[[0.0,\"#0d0887\"],[0.1111111111111111,\"#46039f\"],[0.2222222222222222,\"#7201a8\"],[0.3333333333333333,\"#9c179e\"],[0.4444444444444444,\"#bd3786\"],[0.5555555555555556,\"#d8576b\"],[0.6666666666666666,\"#ed7953\"],[0.7777777777777778,\"#fb9f3a\"],[0.8888888888888888,\"#fdca26\"],[1.0,\"#f0f921\"]]}],\"heatmapgl\":[{\"type\":\"heatmapgl\",\"colorbar\":{\"outlinewidth\":0,\"ticks\":\"\"},\"colorscale\":[[0.0,\"#0d0887\"],[0.1111111111111111,\"#46039f\"],[0.2222222222222222,\"#7201a8\"],[0.3333333333333333,\"#9c179e\"],[0.4444444444444444,\"#bd3786\"],[0.5555555555555556,\"#d8576b\"],[0.6666666666666666,\"#ed7953\"],[0.7777777777777778,\"#fb9f3a\"],[0.8888888888888888,\"#fdca26\"],[1.0,\"#f0f921\"]]}],\"contourcarpet\":[{\"type\":\"contourcarpet\",\"colorbar\":{\"outlinewidth\":0,\"ticks\":\"\"}}],\"contour\":[{\"type\":\"contour\",\"colorbar\":{\"outlinewidth\":0,\"ticks\":\"\"},\"colorscale\":[[0.0,\"#0d0887\"],[0.1111111111111111,\"#46039f\"],[0.2222222222222222,\"#7201a8\"],[0.3333333333333333,\"#9c179e\"],[0.4444444444444444,\"#bd3786\"],[0.5555555555555556,\"#d8576b\"],[0.6666666666666666,\"#ed7953\"],[0.7777777777777778,\"#fb9f3a\"],[0.8888888888888888,\"#fdca26\"],[1.0,\"#f0f921\"]]}],\"surface\":[{\"type\":\"surface\",\"colorbar\":{\"outlinewidth\":0,\"ticks\":\"\"},\"colorscale\":[[0.0,\"#0d0887\"],[0.1111111111111111,\"#46039f\"],[0.2222222222222222,\"#7201a8\"],[0.3333333333333333,\"#9c179e\"],[0.4444444444444444,\"#bd3786\"],[0.5555555555555556,\"#d8576b\"],[0.6666666666666666,\"#ed7953\"],[0.7777777777777778,\"#fb9f3a\"],[0.8888888888888888,\"#fdca26\"],[1.0,\"#f0f921\"]]}],\"mesh3d\":[{\"type\":\"mesh3d\",\"colorbar\":{\"outlinewidth\":0,\"ticks\":\"\"}}],\"scatter\":[{\"fillpattern\":{\"fillmode\":\"overlay\",\"size\":10,\"solidity\":0.2},\"type\":\"scatter\"}],\"parcoords\":[{\"type\":\"parcoords\",\"line\":{\"colorbar\":{\"outlinewidth\":0,\"ticks\":\"\"}}}],\"scatterpolargl\":[{\"type\":\"scatterpolargl\",\"marker\":{\"colorbar\":{\"outlinewidth\":0,\"ticks\":\"\"}}}],\"bar\":[{\"error_x\":{\"color\":\"#2a3f5f\"},\"error_y\":{\"color\":\"#2a3f5f\"},\"marker\":{\"line\":{\"color\":\"#E5ECF6\",\"width\":0.5},\"pattern\":{\"fillmode\":\"overlay\",\"size\":10,\"solidity\":0.2}},\"type\":\"bar\"}],\"scattergeo\":[{\"type\":\"scattergeo\",\"marker\":{\"colorbar\":{\"outlinewidth\":0,\"ticks\":\"\"}}}],\"scatterpolar\":[{\"type\":\"scatterpolar\",\"marker\":{\"colorbar\":{\"outlinewidth\":0,\"ticks\":\"\"}}}],\"histogram\":[{\"marker\":{\"pattern\":{\"fillmode\":\"overlay\",\"size\":10,\"solidity\":0.2}},\"type\":\"histogram\"}],\"scattergl\":[{\"type\":\"scattergl\",\"marker\":{\"colorbar\":{\"outlinewidth\":0,\"ticks\":\"\"}}}],\"scatter3d\":[{\"type\":\"scatter3d\",\"line\":{\"colorbar\":{\"outlinewidth\":0,\"ticks\":\"\"}},\"marker\":{\"colorbar\":{\"outlinewidth\":0,\"ticks\":\"\"}}}],\"scattermapbox\":[{\"type\":\"scattermapbox\",\"marker\":{\"colorbar\":{\"outlinewidth\":0,\"ticks\":\"\"}}}],\"scatterternary\":[{\"type\":\"scatterternary\",\"marker\":{\"colorbar\":{\"outlinewidth\":0,\"ticks\":\"\"}}}],\"scattercarpet\":[{\"type\":\"scattercarpet\",\"marker\":{\"colorbar\":{\"outlinewidth\":0,\"ticks\":\"\"}}}],\"carpet\":[{\"aaxis\":{\"endlinecolor\":\"#2a3f5f\",\"gridcolor\":\"white\",\"linecolor\":\"white\",\"minorgridcolor\":\"white\",\"startlinecolor\":\"#2a3f5f\"},\"baxis\":{\"endlinecolor\":\"#2a3f5f\",\"gridcolor\":\"white\",\"linecolor\":\"white\",\"minorgridcolor\":\"white\",\"startlinecolor\":\"#2a3f5f\"},\"type\":\"carpet\"}],\"table\":[{\"cells\":{\"fill\":{\"color\":\"#EBF0F8\"},\"line\":{\"color\":\"white\"}},\"header\":{\"fill\":{\"color\":\"#C8D4E3\"},\"line\":{\"color\":\"white\"}},\"type\":\"table\"}],\"barpolar\":[{\"marker\":{\"line\":{\"color\":\"#E5ECF6\",\"width\":0.5},\"pattern\":{\"fillmode\":\"overlay\",\"size\":10,\"solidity\":0.2}},\"type\":\"barpolar\"}],\"pie\":[{\"automargin\":true,\"type\":\"pie\"}]},\"layout\":{\"autotypenumbers\":\"strict\",\"colorway\":[\"#636efa\",\"#EF553B\",\"#00cc96\",\"#ab63fa\",\"#FFA15A\",\"#19d3f3\",\"#FF6692\",\"#B6E880\",\"#FF97FF\",\"#FECB52\"],\"font\":{\"color\":\"#2a3f5f\"},\"hovermode\":\"closest\",\"hoverlabel\":{\"align\":\"left\"},\"paper_bgcolor\":\"white\",\"plot_bgcolor\":\"#E5ECF6\",\"polar\":{\"bgcolor\":\"#E5ECF6\",\"angularaxis\":{\"gridcolor\":\"white\",\"linecolor\":\"white\",\"ticks\":\"\"},\"radialaxis\":{\"gridcolor\":\"white\",\"linecolor\":\"white\",\"ticks\":\"\"}},\"ternary\":{\"bgcolor\":\"#E5ECF6\",\"aaxis\":{\"gridcolor\":\"white\",\"linecolor\":\"white\",\"ticks\":\"\"},\"baxis\":{\"gridcolor\":\"white\",\"linecolor\":\"white\",\"ticks\":\"\"},\"caxis\":{\"gridcolor\":\"white\",\"linecolor\":\"white\",\"ticks\":\"\"}},\"coloraxis\":{\"colorbar\":{\"outlinewidth\":0,\"ticks\":\"\"}},\"colorscale\":{\"sequential\":[[0.0,\"#0d0887\"],[0.1111111111111111,\"#46039f\"],[0.2222222222222222,\"#7201a8\"],[0.3333333333333333,\"#9c179e\"],[0.4444444444444444,\"#bd3786\"],[0.5555555555555556,\"#d8576b\"],[0.6666666666666666,\"#ed7953\"],[0.7777777777777778,\"#fb9f3a\"],[0.8888888888888888,\"#fdca26\"],[1.0,\"#f0f921\"]],\"sequentialminus\":[[0.0,\"#0d0887\"],[0.1111111111111111,\"#46039f\"],[0.2222222222222222,\"#7201a8\"],[0.3333333333333333,\"#9c179e\"],[0.4444444444444444,\"#bd3786\"],[0.5555555555555556,\"#d8576b\"],[0.6666666666666666,\"#ed7953\"],[0.7777777777777778,\"#fb9f3a\"],[0.8888888888888888,\"#fdca26\"],[1.0,\"#f0f921\"]],\"diverging\":[[0,\"#8e0152\"],[0.1,\"#c51b7d\"],[0.2,\"#de77ae\"],[0.3,\"#f1b6da\"],[0.4,\"#fde0ef\"],[0.5,\"#f7f7f7\"],[0.6,\"#e6f5d0\"],[0.7,\"#b8e186\"],[0.8,\"#7fbc41\"],[0.9,\"#4d9221\"],[1,\"#276419\"]]},\"xaxis\":{\"gridcolor\":\"white\",\"linecolor\":\"white\",\"ticks\":\"\",\"title\":{\"standoff\":15},\"zerolinecolor\":\"white\",\"automargin\":true,\"zerolinewidth\":2},\"yaxis\":{\"gridcolor\":\"white\",\"linecolor\":\"white\",\"ticks\":\"\",\"title\":{\"standoff\":15},\"zerolinecolor\":\"white\",\"automargin\":true,\"zerolinewidth\":2},\"scene\":{\"xaxis\":{\"backgroundcolor\":\"#E5ECF6\",\"gridcolor\":\"white\",\"linecolor\":\"white\",\"showbackground\":true,\"ticks\":\"\",\"zerolinecolor\":\"white\",\"gridwidth\":2},\"yaxis\":{\"backgroundcolor\":\"#E5ECF6\",\"gridcolor\":\"white\",\"linecolor\":\"white\",\"showbackground\":true,\"ticks\":\"\",\"zerolinecolor\":\"white\",\"gridwidth\":2},\"zaxis\":{\"backgroundcolor\":\"#E5ECF6\",\"gridcolor\":\"white\",\"linecolor\":\"white\",\"showbackground\":true,\"ticks\":\"\",\"zerolinecolor\":\"white\",\"gridwidth\":2}},\"shapedefaults\":{\"line\":{\"color\":\"#2a3f5f\"}},\"annotationdefaults\":{\"arrowcolor\":\"#2a3f5f\",\"arrowhead\":0,\"arrowwidth\":1},\"geo\":{\"bgcolor\":\"white\",\"landcolor\":\"#E5ECF6\",\"subunitcolor\":\"white\",\"showland\":true,\"showlakes\":true,\"lakecolor\":\"white\"},\"title\":{\"x\":0.05},\"mapbox\":{\"style\":\"light\"}}},\"xaxis\":{\"anchor\":\"y\",\"domain\":[0.0,1.0],\"title\":{\"text\":\"Recover Probability\"}},\"yaxis\":{\"anchor\":\"x\",\"domain\":[0.0,1.0],\"title\":{\"text\":\"value\"}},\"legend\":{\"tracegroupgap\":0},\"margin\":{\"t\":60},\"boxmode\":\"group\"},                        {\"responsive\": true}                    ).then(function(){\n",
              "                            \n",
              "var gd = document.getElementById('d29cfeec-8df5-4bb7-8981-edf1b8311e66');\n",
              "var x = new MutationObserver(function (mutations, observer) {{\n",
              "        var display = window.getComputedStyle(gd).display;\n",
              "        if (!display || display === 'none') {{\n",
              "            console.log([gd, 'removed!']);\n",
              "            Plotly.purge(gd);\n",
              "            observer.disconnect();\n",
              "        }}\n",
              "}});\n",
              "\n",
              "// Listen for the removal of the full notebook cells\n",
              "var notebookContainer = gd.closest('#notebook-container');\n",
              "if (notebookContainer) {{\n",
              "    x.observe(notebookContainer, {childList: true});\n",
              "}}\n",
              "\n",
              "// Listen for the clearing of the current output cell\n",
              "var outputEl = gd.closest('.output');\n",
              "if (outputEl) {{\n",
              "    x.observe(outputEl, {childList: true});\n",
              "}}\n",
              "\n",
              "                        })                };                            </script>        </div>\n",
              "</body>\n",
              "</html>"
            ]
          },
          "metadata": {}
        }
      ]
    },
    {
      "cell_type": "code",
      "source": [
        "threshold = 0.28 # Q3\n",
        "\n",
        "df['recover_account'] = df.recover_probability >= threshold\n",
        "df['recover_account'] = df.recover_account.astype('int')"
      ],
      "metadata": {
        "id": "Nq1Xkw5EuHLd"
      },
      "execution_count": 6,
      "outputs": []
    },
    {
      "cell_type": "code",
      "source": [
        "recovered_accounts = df[df.recover_account == 1]\n",
        "lost_accounts = df[df.recover_account == 0]"
      ],
      "metadata": {
        "id": "b1WGOD1Sl679"
      },
      "execution_count": 14,
      "outputs": []
    },
    {
      "cell_type": "markdown",
      "source": [
        "## Answers"
      ],
      "metadata": {
        "id": "XhjW88JZpkxQ"
      }
    },
    {
      "cell_type": "markdown",
      "source": [
        "### Recovered accounts (accounts we get out of delinquency)."
      ],
      "metadata": {
        "id": "94aMmy5VD8E2"
      }
    },
    {
      "cell_type": "code",
      "source": [
        "total_recovered_accounts = df.recover_account.sum()\n",
        "print(\"Recovered accounts: \", total_recovered_accounts ,\"accounts\")"
      ],
      "metadata": {
        "colab": {
          "base_uri": "https://localhost:8080/"
        },
        "id": "8LhwmxS0Th_D",
        "outputId": "5a1126ae-af0e-4b03-847d-d40bbea11961"
      },
      "execution_count": 12,
      "outputs": [
        {
          "output_type": "stream",
          "name": "stdout",
          "text": [
            "Recovered accounts:  341 accounts\n"
          ]
        }
      ]
    },
    {
      "cell_type": "markdown",
      "source": [
        "### Recovered total debt."
      ],
      "metadata": {
        "id": "w2ZdJ3KBD-Cn"
      }
    },
    {
      "cell_type": "code",
      "source": [
        "recovered_total_debt = recovered_accounts['total_debt'].sum()\n",
        "print(\"Recovered total debt: $\", recovered_total_debt)"
      ],
      "metadata": {
        "colab": {
          "base_uri": "https://localhost:8080/"
        },
        "id": "CXzVMzHWNKvu",
        "outputId": "f871d720-8afb-4672-cb7c-e50244e992d1"
      },
      "execution_count": 15,
      "outputs": [
        {
          "output_type": "stream",
          "name": "stdout",
          "text": [
            "Recovered total debt: $ 341000\n"
          ]
        }
      ]
    },
    {
      "cell_type": "markdown",
      "source": [
        "### Revenue coming from collected interest. (Note that the total debt collected is not included in revenue, why?).\n"
      ],
      "metadata": {
        "id": "YgGEf-65D_gM"
      }
    },
    {
      "cell_type": "code",
      "source": [
        "revenue_coming_collected_interest = recovered_accounts['interest'].sum()\n",
        "print(\"Revenue coming from collected interest: $\", revenue_coming_collected_interest)"
      ],
      "metadata": {
        "colab": {
          "base_uri": "https://localhost:8080/"
        },
        "id": "DHbq53NRn0ds",
        "outputId": "44f12f3c-2161-4864-bb0b-15ef368713d8"
      },
      "execution_count": 17,
      "outputs": [
        {
          "output_type": "stream",
          "name": "stdout",
          "text": [
            "Revenue coming from collected interest: $ 51150\n"
          ]
        }
      ]
    },
    {
      "cell_type": "markdown",
      "source": [
        "### Total campaign cost."
      ],
      "metadata": {
        "id": "SDTpJrc4EDff"
      }
    },
    {
      "cell_type": "code",
      "source": [
        "campaign_cost = df.Cost_of_call.sum()\n",
        "print(\"Total Campaign Cost: $\", campaign_cost)"
      ],
      "metadata": {
        "colab": {
          "base_uri": "https://localhost:8080/"
        },
        "id": "G-TaLjy3GVb2",
        "outputId": "dbcbc82d-3202-4736-e1ac-d22466702ba2"
      },
      "execution_count": 18,
      "outputs": [
        {
          "output_type": "stream",
          "name": "stdout",
          "text": [
            "Total Campaign Cost: $ 20250\n"
          ]
        }
      ]
    },
    {
      "cell_type": "markdown",
      "source": [
        "### DQ losses coming from uncollected total debt."
      ],
      "metadata": {
        "id": "DTwzHuEtEE-7"
      }
    },
    {
      "cell_type": "code",
      "source": [
        "lost_accounts['total_debt'].sum()"
      ],
      "metadata": {
        "colab": {
          "base_uri": "https://localhost:8080/"
        },
        "id": "ErBJe7hJn1Rf",
        "outputId": "817027b2-5824-41fa-c251-9261ac68cf39"
      },
      "execution_count": 21,
      "outputs": [
        {
          "output_type": "execute_result",
          "data": {
            "text/plain": [
              "334000"
            ]
          },
          "metadata": {},
          "execution_count": 21
        }
      ]
    },
    {
      "cell_type": "markdown",
      "source": [
        "### Collections income."
      ],
      "metadata": {
        "id": "gQQoAZfZEIVn"
      }
    },
    {
      "cell_type": "code",
      "source": [
        "recovered_accounts['debt_plus_interest'].sum() - campaign_cost"
      ],
      "metadata": {
        "id": "s3OE0NPDWP9c",
        "colab": {
          "base_uri": "https://localhost:8080/"
        },
        "outputId": "080755fb-664a-4fca-8257-56f3246efcee"
      },
      "execution_count": 22,
      "outputs": [
        {
          "output_type": "execute_result",
          "data": {
            "text/plain": [
              "371900"
            ]
          },
          "metadata": {},
          "execution_count": 22
        }
      ]
    },
    {
      "cell_type": "code",
      "source": [
        "df['Strategy Result'] = df['recover_account'].map(lambda x: 'Recovered' if x == 1 else 'Lost')"
      ],
      "metadata": {
        "id": "aJ019ksCdRZl"
      },
      "execution_count": 44,
      "outputs": []
    },
    {
      "cell_type": "code",
      "source": [
        "fig = px.scatter(df.sort_values(by='customer_id'),\n",
        "           x='customer_id',\n",
        "           y= 'contactability_score',\n",
        "          color='Strategy Result',\n",
        "          color_discrete_map = {'Lost':'red', 'Recovered':'green'})\n",
        "\n",
        "fig.update_yaxes(title=\"Contactability Score\")\n",
        "fig.update_xaxes(title=\"Customer Id\")\n"
      ],
      "metadata": {
        "colab": {
          "base_uri": "https://localhost:8080/",
          "height": 542
        },
        "id": "nLE3laO6a-Pb",
        "outputId": "4b401621-5ea5-4bc9-a6cb-d99848960e0e"
      },
      "execution_count": 46,
      "outputs": [
        {
          "output_type": "display_data",
          "data": {
            "text/html": [
              "<html>\n",
              "<head><meta charset=\"utf-8\" /></head>\n",
              "<body>\n",
              "    <div>            <script src=\"https://cdnjs.cloudflare.com/ajax/libs/mathjax/2.7.5/MathJax.js?config=TeX-AMS-MML_SVG\"></script><script type=\"text/javascript\">if (window.MathJax && window.MathJax.Hub && window.MathJax.Hub.Config) {window.MathJax.Hub.Config({SVG: {font: \"STIX-Web\"}});}</script>                <script type=\"text/javascript\">window.PlotlyConfig = {MathJaxConfig: 'local'};</script>\n",
              "        <script charset=\"utf-8\" src=\"https://cdn.plot.ly/plotly-2.24.1.min.js\"></script>                <div id=\"5b8f8cde-40d2-4e20-9478-520cadb07b90\" class=\"plotly-graph-div\" style=\"height:525px; width:100%;\"></div>            <script type=\"text/javascript\">                                    window.PLOTLYENV=window.PLOTLYENV || {};                                    if (document.getElementById(\"5b8f8cde-40d2-4e20-9478-520cadb07b90\")) {                    Plotly.newPlot(                        \"5b8f8cde-40d2-4e20-9478-520cadb07b90\",                        [{\"hovertemplate\":\"Strategy Result=Lost\\u003cbr\\u003ecustomer_id=%{x}\\u003cbr\\u003econtactability_score=%{y}\\u003cextra\\u003e\\u003c\\u002fextra\\u003e\",\"legendgroup\":\"Lost\",\"marker\":{\"color\":\"red\",\"symbol\":\"circle\"},\"mode\":\"markers\",\"name\":\"Lost\",\"orientation\":\"v\",\"showlegend\":true,\"x\":[1,2,3,4,6,8,9,12,14,15,16,18,19,20,21,22,25,27,29,30,32,35,36,37,41,42,43,47,48,49,50,51,52,53,55,56,62,64,65,66,68,70,74,77,79,82,83,87,90,91,93,94,97,98,100,103,108,109,113,117,124,127,129,130,131,133,135,136,141,142,143,144,150,153,154,155,157,159,161,162,163,164,165,170,173,174,176,177,178,180,181,182,183,185,186,187,189,190,191,192,194,195,196,198,199,200,204,207,208,210,211,212,216,219,220,221,223,224,226,228,229,230,235,239,244,250,253,255,256,257,258,262,265,266,267,268,271,272,273,274,282,284,286,288,289,292,293,294,296,297,298,300,303,304,306,311,313,316,317,321,322,324,327,328,329,331,335,336,337,339,340,341,343,345,347,348,349,350,351,352,353,360,362,364,366,367,368,369,371,374,375,377,381,382,385,386,389,390,395,396,397,404,405,407,408,410,411,412,418,419,421,424,427,428,431,432,433,434,435,436,437,438,439,440,443,445,446,451,453,455,458,462,463,464,467,470,474,475,476,477,484,488,489,490,492,493,494,498,499,504,509,510,511,512,513,514,517,519,521,523,524,526,528,529,536,538,540,546,547,548,549,551,554,556,557,558,565,570,571,574,575,576,577,580,582,584,589,591,593,594,595,596,597,599,601,602,608,609,610,611,613,614,615,617,624,625,626,627,628,630,631,632,633,634,638,641,644,645,649,650,651,652,653,654,655,657,658,660,663,664,665,669,670,674],\"xaxis\":\"x\",\"y\":[0.293,0.25,0.033,0.239,0.236,0.215,0.012,0.202,0.025,0.028,0.132,0.305,0.029,0.034,0.049,0.256,0.286,0.104,0.235,0.099,0.133,0.314,0.118,0.001,0.013,0.069,0.272,0.263,0.21,0.01,0.281,0.162,0.031,0.298,0.081,0.151,0.172,0.204,0.041,0.048,0.121,0.22,0.002,0.322,0.115,0.074,0.127,0.102,0.343,0.094,0.106,0.04,0.208,0.227,0.061,0.274,0.059,0.098,0.016,0.022,0.271,0.103,0.167,0.09,0.266,0.007,0.126,0.194,0.337,0.084,0.024,0.147,0.14,0.238,0.083,0.163,0.039,0.328,0.026,0.143,0.079,0.216,0.207,0.284,0.193,0.018,0.316,0.37,0.262,0.009,0.288,0.105,0.258,0.138,0.129,0.303,0.032,0.324,0.368,0.064,0.03,0.357,0.333,0.166,0.008,0.196,0.114,0.037,0.026,0.021,0.187,0.02,0.047,0.36,0.137,0.05,0.307,0.205,0.109,0.149,0.035,0.211,0.072,0.043,0.315,0.142,0.354,0.124,0.116,0.122,0.356,0.246,0.302,0.182,0.16,0.247,0.082,0.373,0.244,0.144,0.24,0.319,0.233,0.242,0.282,0.176,0.092,0.364,0.141,0.223,0.006,0.19,0.113,0.018,0.152,0.044,0.226,0.32,0.119,0.331,0.254,0.005,0.158,0.095,0.232,0.33,0.055,0.054,0.13,0.318,0.326,0.063,0.18,0.217,0.036,0.06,0.346,0.117,0.221,0.178,0.108,0.057,0.071,0.125,0.335,0.1,0.023,0.234,0.015,0.241,0.327,0.218,0.076,0.197,0.279,0.224,0.004,0.085,0.131,0.146,0.367,0.058,0.228,0.339,0.275,0.15,0.276,0.311,0.123,0.341,0.171,0.067,0.28,0.073,0.075,0.312,0.165,0.014,0.08,0.159,0.045,0.252,0.294,0.091,0.168,0.29,0.359,0.107,0.323,0.038,0.299,0.31,0.185,0.111,0.289,0.154,0.155,0.134,0.087,0.097,0.027,0.096,0.048,0.342,0.053,0.361,0.101,0.277,0.257,0.201,0.068,0.349,0.291,0.07,0.112,0.245,0.297,0.066,0.051,0.301,0.285,0.348,0.268,0.019,0.135,0.179,0.161,0.198,0.175,0.157,0.338,0.177,0.173,0.042,0.128,0.26,0.251,0.046,0.189,0.188,0.212,0.345,0.036,0.003,0.352,0.086,0.145,0.077,0.067,0.011,0.093,0.2,0.056,0.229,0.148,0.295,0.136,0.17,0.371,0.192,0.186,0.261,0.35,0.003,0.169,0.195,0.306,0.265,0.078,0.249,0.308,0.062,0.11,0.184,0.255,0.334,0.181,0.088,0.209,0.089,0.156,0.052,0.017,0.353,0.222,0.267,0.366,0.363,0.27,0.214,0.01,0.065,0.203,0.23],\"yaxis\":\"y\",\"type\":\"scatter\"},{\"hovertemplate\":\"Strategy Result=Recovered\\u003cbr\\u003ecustomer_id=%{x}\\u003cbr\\u003econtactability_score=%{y}\\u003cextra\\u003e\\u003c\\u002fextra\\u003e\",\"legendgroup\":\"Recovered\",\"marker\":{\"color\":\"green\",\"symbol\":\"circle\"},\"mode\":\"markers\",\"name\":\"Recovered\",\"orientation\":\"v\",\"showlegend\":true,\"x\":[5,7,10,11,13,17,23,24,26,28,31,33,34,38,39,40,44,45,46,54,57,58,59,60,61,63,67,69,71,72,73,75,76,78,80,81,84,85,86,88,89,92,95,96,99,101,102,104,105,106,107,110,111,112,114,115,116,118,119,120,121,122,123,125,126,128,132,134,137,138,139,140,145,146,147,148,149,151,152,156,158,160,166,167,168,169,171,172,175,179,184,188,193,197,201,202,203,205,206,209,213,214,215,217,218,222,225,227,231,232,233,234,236,237,238,240,241,242,243,245,246,247,248,249,251,252,254,259,260,261,263,264,269,270,275,276,277,278,279,280,281,283,285,287,290,291,295,299,301,302,305,307,308,309,310,312,314,315,318,319,320,323,325,326,330,332,333,334,338,342,344,346,354,355,356,357,358,359,361,363,365,370,372,373,376,378,379,380,383,384,387,388,391,392,393,394,398,399,400,401,402,403,406,409,413,414,415,416,417,420,422,423,425,426,429,430,441,442,444,447,448,449,450,452,454,456,457,459,460,461,465,466,468,469,471,472,473,478,479,480,481,482,483,485,486,487,491,495,496,497,500,501,502,503,505,506,507,508,515,516,518,520,522,525,527,530,531,532,533,534,535,537,539,541,542,543,544,545,550,552,553,555,559,560,561,562,563,564,566,567,568,569,572,573,578,579,581,583,585,586,587,588,590,592,598,600,603,604,605,606,607,612,616,618,619,620,621,622,623,629,635,636,637,639,640,642,643,646,647,648,656,659,661,662,666,667,668,671,672,673,675],\"xaxis\":\"x\",\"y\":[0.681,0.538,0.416,0.811,0.619,0.827,0.543,0.527,0.426,0.468,0.719,0.454,0.778,0.689,0.968,0.57,0.598,0.415,0.558,0.74,0.834,0.817,0.525,0.687,0.406,0.813,0.56,0.423,0.965,0.889,0.403,0.825,0.572,0.537,0.815,0.774,0.63,0.819,0.954,0.657,0.865,0.851,0.535,0.902,0.993,0.956,0.512,0.752,0.612,0.412,0.794,0.821,0.927,0.376,0.756,0.614,0.443,0.642,0.409,0.668,0.633,0.949,0.842,0.746,0.502,0.472,0.661,0.803,0.768,0.78,0.909,0.683,0.679,0.385,0.881,0.979,0.776,0.659,0.477,0.48,0.885,0.39,0.674,0.616,0.461,0.878,0.582,0.709,0.488,0.49,0.67,0.792,0.664,0.911,0.933,0.38,0.637,0.509,0.7,0.988,0.717,0.621,0.84,0.46,0.466,0.4,0.639,0.475,0.6,0.652,0.422,0.401,0.41,0.519,0.593,0.704,0.452,0.384,0.626,0.655,0.986,0.394,0.853,0.744,0.995,0.442,0.591,0.958,0.465,0.75,0.772,0.374,0.562,0.857,0.748,0.984,0.706,0.805,0.922,0.644,0.76,0.721,0.498,0.446,0.963,0.584,0.859,0.874,0.445,0.907,0.51,0.832,0.474,0.557,0.807,0.563,0.479,0.553,0.998,0.9,0.69,0.601,0.499,0.685,0.782,0.469,0.404,0.727,0.579,0.977,0.421,0.437,0.766,0.54,0.517,0.918,0.55,0.788,0.737,0.532,0.413,0.486,0.569,0.974,0.754,0.784,0.378,0.52,0.991,0.587,0.547,0.648,0.451,0.485,0.698,0.418,0.894,0.725,0.493,0.938,0.742,0.823,0.796,0.855,0.501,0.999,0.567,0.514,0.608,0.61,0.786,0.552,0.836,0.635,0.764,0.575,0.515,0.94,0.943,0.632,0.44,0.388,0.896,0.596,0.458,0.491,0.545,0.586,0.504,0.457,0.947,0.758,0.861,0.496,0.702,0.711,0.97,0.65,0.733,0.929,0.92,0.916,0.801,0.594,0.848,0.868,0.731,0.607,0.972,0.713,0.528,0.387,0.393,0.471,0.809,0.506,0.391,0.87,0.429,0.872,0.846,0.574,0.898,0.887,0.605,0.589,0.548,0.581,0.533,0.981,0.863,0.381,0.449,0.883,0.677,0.77,0.507,0.641,0.431,0.891,0.542,0.646,0.931,0.397,0.762,0.738,0.624,0.483,0.905,0.432,0.723,0.425,0.419,0.663,0.522,0.83,0.455,0.666,0.696,0.844,0.838,0.53,0.435,0.565,0.438,0.407,0.377,0.672,0.428,0.482,0.729,0.79,0.952,0.623,0.494,0.913,0.383,0.628,0.617,0.961,0.603,0.694,0.398,0.577,0.936,0.876,0.555,0.676,0.692,0.715,0.448,0.945,0.523,0.925,0.708,0.735,0.798,0.463,0.434,0.396,0.653],\"yaxis\":\"y\",\"type\":\"scatter\"}],                        {\"template\":{\"data\":{\"histogram2dcontour\":[{\"type\":\"histogram2dcontour\",\"colorbar\":{\"outlinewidth\":0,\"ticks\":\"\"},\"colorscale\":[[0.0,\"#0d0887\"],[0.1111111111111111,\"#46039f\"],[0.2222222222222222,\"#7201a8\"],[0.3333333333333333,\"#9c179e\"],[0.4444444444444444,\"#bd3786\"],[0.5555555555555556,\"#d8576b\"],[0.6666666666666666,\"#ed7953\"],[0.7777777777777778,\"#fb9f3a\"],[0.8888888888888888,\"#fdca26\"],[1.0,\"#f0f921\"]]}],\"choropleth\":[{\"type\":\"choropleth\",\"colorbar\":{\"outlinewidth\":0,\"ticks\":\"\"}}],\"histogram2d\":[{\"type\":\"histogram2d\",\"colorbar\":{\"outlinewidth\":0,\"ticks\":\"\"},\"colorscale\":[[0.0,\"#0d0887\"],[0.1111111111111111,\"#46039f\"],[0.2222222222222222,\"#7201a8\"],[0.3333333333333333,\"#9c179e\"],[0.4444444444444444,\"#bd3786\"],[0.5555555555555556,\"#d8576b\"],[0.6666666666666666,\"#ed7953\"],[0.7777777777777778,\"#fb9f3a\"],[0.8888888888888888,\"#fdca26\"],[1.0,\"#f0f921\"]]}],\"heatmap\":[{\"type\":\"heatmap\",\"colorbar\":{\"outlinewidth\":0,\"ticks\":\"\"},\"colorscale\":[[0.0,\"#0d0887\"],[0.1111111111111111,\"#46039f\"],[0.2222222222222222,\"#7201a8\"],[0.3333333333333333,\"#9c179e\"],[0.4444444444444444,\"#bd3786\"],[0.5555555555555556,\"#d8576b\"],[0.6666666666666666,\"#ed7953\"],[0.7777777777777778,\"#fb9f3a\"],[0.8888888888888888,\"#fdca26\"],[1.0,\"#f0f921\"]]}],\"heatmapgl\":[{\"type\":\"heatmapgl\",\"colorbar\":{\"outlinewidth\":0,\"ticks\":\"\"},\"colorscale\":[[0.0,\"#0d0887\"],[0.1111111111111111,\"#46039f\"],[0.2222222222222222,\"#7201a8\"],[0.3333333333333333,\"#9c179e\"],[0.4444444444444444,\"#bd3786\"],[0.5555555555555556,\"#d8576b\"],[0.6666666666666666,\"#ed7953\"],[0.7777777777777778,\"#fb9f3a\"],[0.8888888888888888,\"#fdca26\"],[1.0,\"#f0f921\"]]}],\"contourcarpet\":[{\"type\":\"contourcarpet\",\"colorbar\":{\"outlinewidth\":0,\"ticks\":\"\"}}],\"contour\":[{\"type\":\"contour\",\"colorbar\":{\"outlinewidth\":0,\"ticks\":\"\"},\"colorscale\":[[0.0,\"#0d0887\"],[0.1111111111111111,\"#46039f\"],[0.2222222222222222,\"#7201a8\"],[0.3333333333333333,\"#9c179e\"],[0.4444444444444444,\"#bd3786\"],[0.5555555555555556,\"#d8576b\"],[0.6666666666666666,\"#ed7953\"],[0.7777777777777778,\"#fb9f3a\"],[0.8888888888888888,\"#fdca26\"],[1.0,\"#f0f921\"]]}],\"surface\":[{\"type\":\"surface\",\"colorbar\":{\"outlinewidth\":0,\"ticks\":\"\"},\"colorscale\":[[0.0,\"#0d0887\"],[0.1111111111111111,\"#46039f\"],[0.2222222222222222,\"#7201a8\"],[0.3333333333333333,\"#9c179e\"],[0.4444444444444444,\"#bd3786\"],[0.5555555555555556,\"#d8576b\"],[0.6666666666666666,\"#ed7953\"],[0.7777777777777778,\"#fb9f3a\"],[0.8888888888888888,\"#fdca26\"],[1.0,\"#f0f921\"]]}],\"mesh3d\":[{\"type\":\"mesh3d\",\"colorbar\":{\"outlinewidth\":0,\"ticks\":\"\"}}],\"scatter\":[{\"fillpattern\":{\"fillmode\":\"overlay\",\"size\":10,\"solidity\":0.2},\"type\":\"scatter\"}],\"parcoords\":[{\"type\":\"parcoords\",\"line\":{\"colorbar\":{\"outlinewidth\":0,\"ticks\":\"\"}}}],\"scatterpolargl\":[{\"type\":\"scatterpolargl\",\"marker\":{\"colorbar\":{\"outlinewidth\":0,\"ticks\":\"\"}}}],\"bar\":[{\"error_x\":{\"color\":\"#2a3f5f\"},\"error_y\":{\"color\":\"#2a3f5f\"},\"marker\":{\"line\":{\"color\":\"#E5ECF6\",\"width\":0.5},\"pattern\":{\"fillmode\":\"overlay\",\"size\":10,\"solidity\":0.2}},\"type\":\"bar\"}],\"scattergeo\":[{\"type\":\"scattergeo\",\"marker\":{\"colorbar\":{\"outlinewidth\":0,\"ticks\":\"\"}}}],\"scatterpolar\":[{\"type\":\"scatterpolar\",\"marker\":{\"colorbar\":{\"outlinewidth\":0,\"ticks\":\"\"}}}],\"histogram\":[{\"marker\":{\"pattern\":{\"fillmode\":\"overlay\",\"size\":10,\"solidity\":0.2}},\"type\":\"histogram\"}],\"scattergl\":[{\"type\":\"scattergl\",\"marker\":{\"colorbar\":{\"outlinewidth\":0,\"ticks\":\"\"}}}],\"scatter3d\":[{\"type\":\"scatter3d\",\"line\":{\"colorbar\":{\"outlinewidth\":0,\"ticks\":\"\"}},\"marker\":{\"colorbar\":{\"outlinewidth\":0,\"ticks\":\"\"}}}],\"scattermapbox\":[{\"type\":\"scattermapbox\",\"marker\":{\"colorbar\":{\"outlinewidth\":0,\"ticks\":\"\"}}}],\"scatterternary\":[{\"type\":\"scatterternary\",\"marker\":{\"colorbar\":{\"outlinewidth\":0,\"ticks\":\"\"}}}],\"scattercarpet\":[{\"type\":\"scattercarpet\",\"marker\":{\"colorbar\":{\"outlinewidth\":0,\"ticks\":\"\"}}}],\"carpet\":[{\"aaxis\":{\"endlinecolor\":\"#2a3f5f\",\"gridcolor\":\"white\",\"linecolor\":\"white\",\"minorgridcolor\":\"white\",\"startlinecolor\":\"#2a3f5f\"},\"baxis\":{\"endlinecolor\":\"#2a3f5f\",\"gridcolor\":\"white\",\"linecolor\":\"white\",\"minorgridcolor\":\"white\",\"startlinecolor\":\"#2a3f5f\"},\"type\":\"carpet\"}],\"table\":[{\"cells\":{\"fill\":{\"color\":\"#EBF0F8\"},\"line\":{\"color\":\"white\"}},\"header\":{\"fill\":{\"color\":\"#C8D4E3\"},\"line\":{\"color\":\"white\"}},\"type\":\"table\"}],\"barpolar\":[{\"marker\":{\"line\":{\"color\":\"#E5ECF6\",\"width\":0.5},\"pattern\":{\"fillmode\":\"overlay\",\"size\":10,\"solidity\":0.2}},\"type\":\"barpolar\"}],\"pie\":[{\"automargin\":true,\"type\":\"pie\"}]},\"layout\":{\"autotypenumbers\":\"strict\",\"colorway\":[\"#636efa\",\"#EF553B\",\"#00cc96\",\"#ab63fa\",\"#FFA15A\",\"#19d3f3\",\"#FF6692\",\"#B6E880\",\"#FF97FF\",\"#FECB52\"],\"font\":{\"color\":\"#2a3f5f\"},\"hovermode\":\"closest\",\"hoverlabel\":{\"align\":\"left\"},\"paper_bgcolor\":\"white\",\"plot_bgcolor\":\"#E5ECF6\",\"polar\":{\"bgcolor\":\"#E5ECF6\",\"angularaxis\":{\"gridcolor\":\"white\",\"linecolor\":\"white\",\"ticks\":\"\"},\"radialaxis\":{\"gridcolor\":\"white\",\"linecolor\":\"white\",\"ticks\":\"\"}},\"ternary\":{\"bgcolor\":\"#E5ECF6\",\"aaxis\":{\"gridcolor\":\"white\",\"linecolor\":\"white\",\"ticks\":\"\"},\"baxis\":{\"gridcolor\":\"white\",\"linecolor\":\"white\",\"ticks\":\"\"},\"caxis\":{\"gridcolor\":\"white\",\"linecolor\":\"white\",\"ticks\":\"\"}},\"coloraxis\":{\"colorbar\":{\"outlinewidth\":0,\"ticks\":\"\"}},\"colorscale\":{\"sequential\":[[0.0,\"#0d0887\"],[0.1111111111111111,\"#46039f\"],[0.2222222222222222,\"#7201a8\"],[0.3333333333333333,\"#9c179e\"],[0.4444444444444444,\"#bd3786\"],[0.5555555555555556,\"#d8576b\"],[0.6666666666666666,\"#ed7953\"],[0.7777777777777778,\"#fb9f3a\"],[0.8888888888888888,\"#fdca26\"],[1.0,\"#f0f921\"]],\"sequentialminus\":[[0.0,\"#0d0887\"],[0.1111111111111111,\"#46039f\"],[0.2222222222222222,\"#7201a8\"],[0.3333333333333333,\"#9c179e\"],[0.4444444444444444,\"#bd3786\"],[0.5555555555555556,\"#d8576b\"],[0.6666666666666666,\"#ed7953\"],[0.7777777777777778,\"#fb9f3a\"],[0.8888888888888888,\"#fdca26\"],[1.0,\"#f0f921\"]],\"diverging\":[[0,\"#8e0152\"],[0.1,\"#c51b7d\"],[0.2,\"#de77ae\"],[0.3,\"#f1b6da\"],[0.4,\"#fde0ef\"],[0.5,\"#f7f7f7\"],[0.6,\"#e6f5d0\"],[0.7,\"#b8e186\"],[0.8,\"#7fbc41\"],[0.9,\"#4d9221\"],[1,\"#276419\"]]},\"xaxis\":{\"gridcolor\":\"white\",\"linecolor\":\"white\",\"ticks\":\"\",\"title\":{\"standoff\":15},\"zerolinecolor\":\"white\",\"automargin\":true,\"zerolinewidth\":2},\"yaxis\":{\"gridcolor\":\"white\",\"linecolor\":\"white\",\"ticks\":\"\",\"title\":{\"standoff\":15},\"zerolinecolor\":\"white\",\"automargin\":true,\"zerolinewidth\":2},\"scene\":{\"xaxis\":{\"backgroundcolor\":\"#E5ECF6\",\"gridcolor\":\"white\",\"linecolor\":\"white\",\"showbackground\":true,\"ticks\":\"\",\"zerolinecolor\":\"white\",\"gridwidth\":2},\"yaxis\":{\"backgroundcolor\":\"#E5ECF6\",\"gridcolor\":\"white\",\"linecolor\":\"white\",\"showbackground\":true,\"ticks\":\"\",\"zerolinecolor\":\"white\",\"gridwidth\":2},\"zaxis\":{\"backgroundcolor\":\"#E5ECF6\",\"gridcolor\":\"white\",\"linecolor\":\"white\",\"showbackground\":true,\"ticks\":\"\",\"zerolinecolor\":\"white\",\"gridwidth\":2}},\"shapedefaults\":{\"line\":{\"color\":\"#2a3f5f\"}},\"annotationdefaults\":{\"arrowcolor\":\"#2a3f5f\",\"arrowhead\":0,\"arrowwidth\":1},\"geo\":{\"bgcolor\":\"white\",\"landcolor\":\"#E5ECF6\",\"subunitcolor\":\"white\",\"showland\":true,\"showlakes\":true,\"lakecolor\":\"white\"},\"title\":{\"x\":0.05},\"mapbox\":{\"style\":\"light\"}}},\"xaxis\":{\"anchor\":\"y\",\"domain\":[0.0,1.0],\"title\":{\"text\":\"Customer Id\"}},\"yaxis\":{\"anchor\":\"x\",\"domain\":[0.0,1.0],\"title\":{\"text\":\"Contactability Score\"}},\"legend\":{\"title\":{\"text\":\"Strategy Result\"},\"tracegroupgap\":0},\"margin\":{\"t\":60}},                        {\"responsive\": true}                    ).then(function(){\n",
              "                            \n",
              "var gd = document.getElementById('5b8f8cde-40d2-4e20-9478-520cadb07b90');\n",
              "var x = new MutationObserver(function (mutations, observer) {{\n",
              "        var display = window.getComputedStyle(gd).display;\n",
              "        if (!display || display === 'none') {{\n",
              "            console.log([gd, 'removed!']);\n",
              "            Plotly.purge(gd);\n",
              "            observer.disconnect();\n",
              "        }}\n",
              "}});\n",
              "\n",
              "// Listen for the removal of the full notebook cells\n",
              "var notebookContainer = gd.closest('#notebook-container');\n",
              "if (notebookContainer) {{\n",
              "    x.observe(notebookContainer, {childList: true});\n",
              "}}\n",
              "\n",
              "// Listen for the clearing of the current output cell\n",
              "var outputEl = gd.closest('.output');\n",
              "if (outputEl) {{\n",
              "    x.observe(outputEl, {childList: true});\n",
              "}}\n",
              "\n",
              "                        })                };                            </script>        </div>\n",
              "</body>\n",
              "</html>"
            ]
          },
          "metadata": {}
        }
      ]
    }
  ]
}